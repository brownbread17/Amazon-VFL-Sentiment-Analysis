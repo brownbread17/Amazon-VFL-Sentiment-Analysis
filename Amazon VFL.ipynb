{
 "cells": [
  {
   "cell_type": "code",
   "execution_count": 1,
   "metadata": {},
   "outputs": [],
   "source": [
    "import pandas as pd\n",
    "import numpy as np\n",
    "import seaborn as sns\n",
    "from textblob import TextBlob\n",
    "import matplotlib.pyplot as plt"
   ]
  },
  {
   "cell_type": "code",
   "execution_count": 2,
   "metadata": {},
   "outputs": [
    {
     "data": {
      "text/html": [
       "<div>\n",
       "<style scoped>\n",
       "    .dataframe tbody tr th:only-of-type {\n",
       "        vertical-align: middle;\n",
       "    }\n",
       "\n",
       "    .dataframe tbody tr th {\n",
       "        vertical-align: top;\n",
       "    }\n",
       "\n",
       "    .dataframe thead th {\n",
       "        text-align: right;\n",
       "    }\n",
       "</style>\n",
       "<table border=\"1\" class=\"dataframe\">\n",
       "  <thead>\n",
       "    <tr style=\"text-align: right;\">\n",
       "      <th></th>\n",
       "      <th>asin</th>\n",
       "      <th>name</th>\n",
       "      <th>date</th>\n",
       "      <th>rating</th>\n",
       "      <th>review</th>\n",
       "    </tr>\n",
       "  </thead>\n",
       "  <tbody>\n",
       "    <tr>\n",
       "      <th>0</th>\n",
       "      <td>B07W7CTLD1</td>\n",
       "      <td>Mamaearth-Onion-Growth-Control-Redensyl</td>\n",
       "      <td>2019-09-06</td>\n",
       "      <td>1</td>\n",
       "      <td>I bought this hair oil after viewing so many g...</td>\n",
       "    </tr>\n",
       "    <tr>\n",
       "      <th>1</th>\n",
       "      <td>B07W7CTLD1</td>\n",
       "      <td>Mamaearth-Onion-Growth-Control-Redensyl</td>\n",
       "      <td>2019-08-14</td>\n",
       "      <td>5</td>\n",
       "      <td>Used This Mama Earth Newly Launched Onion Oil ...</td>\n",
       "    </tr>\n",
       "    <tr>\n",
       "      <th>2</th>\n",
       "      <td>B07W7CTLD1</td>\n",
       "      <td>Mamaearth-Onion-Growth-Control-Redensyl</td>\n",
       "      <td>2019-10-19</td>\n",
       "      <td>1</td>\n",
       "      <td>So bad product...My hair falling increase too ...</td>\n",
       "    </tr>\n",
       "    <tr>\n",
       "      <th>3</th>\n",
       "      <td>B07W7CTLD1</td>\n",
       "      <td>Mamaearth-Onion-Growth-Control-Redensyl</td>\n",
       "      <td>2019-09-16</td>\n",
       "      <td>1</td>\n",
       "      <td>Product just smells similar to navarathna hair...</td>\n",
       "    </tr>\n",
       "    <tr>\n",
       "      <th>4</th>\n",
       "      <td>B07W7CTLD1</td>\n",
       "      <td>Mamaearth-Onion-Growth-Control-Redensyl</td>\n",
       "      <td>2019-08-18</td>\n",
       "      <td>5</td>\n",
       "      <td>I have been trying different onion oil for my ...</td>\n",
       "    </tr>\n",
       "  </tbody>\n",
       "</table>\n",
       "</div>"
      ],
      "text/plain": [
       "         asin                                     name        date  rating  \\\n",
       "0  B07W7CTLD1  Mamaearth-Onion-Growth-Control-Redensyl  2019-09-06       1   \n",
       "1  B07W7CTLD1  Mamaearth-Onion-Growth-Control-Redensyl  2019-08-14       5   \n",
       "2  B07W7CTLD1  Mamaearth-Onion-Growth-Control-Redensyl  2019-10-19       1   \n",
       "3  B07W7CTLD1  Mamaearth-Onion-Growth-Control-Redensyl  2019-09-16       1   \n",
       "4  B07W7CTLD1  Mamaearth-Onion-Growth-Control-Redensyl  2019-08-18       5   \n",
       "\n",
       "                                              review  \n",
       "0  I bought this hair oil after viewing so many g...  \n",
       "1  Used This Mama Earth Newly Launched Onion Oil ...  \n",
       "2  So bad product...My hair falling increase too ...  \n",
       "3  Product just smells similar to navarathna hair...  \n",
       "4  I have been trying different onion oil for my ...  "
      ]
     },
     "execution_count": 2,
     "metadata": {},
     "output_type": "execute_result"
    }
   ],
   "source": [
    "amz_data = pd.read_csv('amazon_vfl_reviews.csv')\n",
    "amz_data.head()"
   ]
  },
  {
   "cell_type": "code",
   "execution_count": 3,
   "metadata": {},
   "outputs": [
    {
     "data": {
      "text/plain": [
       "array(['Mamaearth-Onion-Growth-Control-Redensyl',\n",
       "       'Mamaearth-Percent-Natural-Berry-Toothpaste',\n",
       "       'Mamaearth-Natural-Turmeric-Saffron-brightning',\n",
       "       'Mamaearth-Illuminate-Vitamin-Radiant-Turmeric',\n",
       "       'Mamaearth-Blemishes-Pigmentation-Blemish-Mulberry',\n",
       "       'Mamaearth-Face-Wash-100-ml',\n",
       "       'Mamaearth-Moisturizing-Baby-Bathing-Oatmeal',\n",
       "       'Godrej-Protekt-Master-Blaster-Handwash',\n",
       "       'Godrej-No-1-Bathing-Soap-Lime',\n",
       "       'Godrej-No-1-Bathing-Soap-Turmeric',\n",
       "       'Godrej-Direct-Cool-Refrigerator-1905-PTDI',\n",
       "       'Godrej-aer-Pocket-Bathroom-Fragrance',\n",
       "       'Godrej-Security-Solutions-SEEC9060-Electronic',\n",
       "       'Godrej-Matic-Spray-Violet-Valley',\n",
       "       'Godrej-Security-Solutions-Goldilocks-Personal',\n",
       "       'Godrej-ViroShield-Disinfecting-VIROSHIELD-30UV',\n",
       "       'Titan-Analog-Black-Dial-Watch-1805NM01',\n",
       "       'Titan-Analog-White-Dial-Watch-NK1639SL03',\n",
       "       'Titan-Karishma-Analog-Blue-Watch-1774SM01',\n",
       "       'Titan-Karishma-Analog-Black-Watch-NK1639SM02',\n",
       "       'Titan-Octane-Analog-Silver-Watch-NK1650BM03',\n",
       "       'Titan-Analog-Black-Dial-Watch-NK1730SL02',\n",
       "       'Titan-Karishma-Analog-Champagne-Watch-NK1580YL05',\n",
       "       'Titan-Analog-Gold-Dial-Watch-NK1650YM04',\n",
       "       'Titan-Karishma-Analog-Black-NK1578SM04', 'Maaza-1-2L',\n",
       "       'Paper-Boat-Aamras-Juice-250ml',\n",
       "       'Indiana-Frutti-Cherries-Frooti-Multicolor',\n",
       "       'Coca-Cola-300ml-Pack-6', 'Natural-Mango-Juice-1L-Pack',\n",
       "       'Paper-Boat-Mixed-Fruit', 'Maggi-Masala-Noodles-Singles-840g',\n",
       "       'Glucon-D-Glucose-Based-Beverage-Orange',\n",
       "       'Natural-Festive-Delight-Assorted-Jelimals',\n",
       "       'Amul-Butter-Pasteurised-100g-Pack', 'Amul-Cow-Ghee-500ml',\n",
       "       'Amul-Fresh-Paneer-200g', 'Amul-Cacao-Chocolate-125g-Pack',\n",
       "       'Amul-Cheese-Slices-200g-Pack', 'Amul-Fresh-Cream-250ml',\n",
       "       'Amul-Pure-Ghee-Pouch-1L', 'Amul-Pro-500g-Pouch-Pack',\n",
       "       'Amul-Gold-Milk-Homogenised-Standardised',\n",
       "       'Patanjali-Cows-Ghee-1L',\n",
       "       'PATANJALI-Aloe-Pimples-Moisturizing-150ml',\n",
       "       'Patanjali-Shatavar-Mushli-Ashwagandha-Churna',\n",
       "       'Patanjali-Kanti-Natural-Cleanser-Shampoo',\n",
       "       'Patanjali-Ayurved-Ltd-CORO-NIL-Tablet',\n",
       "       'Patanjali-UHT-Milk-1000-ml', 'Patanjali-Cows-Ghee-500ml',\n",
       "       'Patanjali-Saundarya-Aloe-Vera-150ml',\n",
       "       'Dettol-Disinfectant-Multi-Use-Hygiene-Liquid',\n",
       "       'Dettol-Disinfectant-Cleaner-Home-Fresh',\n",
       "       'Dettol-Liquid-Refill-Original-1500',\n",
       "       'Dettol-Multi-Purpose-Disinfectant-Surfaces-Original',\n",
       "       'Savlon-After-Shave-Lotion-1000',\n",
       "       'Dettol-Original-Protection-Bathing-125gm',\n",
       "       'Dettol-Detergent-Liquid-Laundry-Sanitizer-Spring-Blossom',\n",
       "       'Dettol-Disinfectant-Liquid-Menthol-Cool',\n",
       "       'Cinthol-Lime-Soap-100-Pack', 'Cinthol-Original-Soap-100-Pack',\n",
       "       'Cinthol-Lime-Soap-100g-Pack', 'Cinthol-Original-Soap-100g-Pack',\n",
       "       'Cinthol-Soap-125g-Pack-Free', 'Cinthol-Cool-Soap-100-Pack',\n",
       "       'Cinthol-Confidence-Soap-100g-Pack', 'Cinthol-Cool-Soap-100g-Free',\n",
       "       'Britannia-NutriChoice-Digestive-100g',\n",
       "       'Britannia-Good-Day-Cashew-200g', 'Britannia-Marie-Gold-200g',\n",
       "       'NutriChoice-Digestives-grain-Pack-200g',\n",
       "       'Britannia-Vita-Marie-Gold-150g',\n",
       "       'Britannia-50-50-Biscuits-Pouch-80g', 'Britannia-Nice-Time-150g',\n",
       "       'Streax-Hair-Serum-Gloss-100ml',\n",
       "       'Streax-Shampoo-Enriched-Extracts-Long-Lasting',\n",
       "       'Streax-Vitalized-Hair-Serum-300',\n",
       "       'Streax-Ultralights-Highlighting-Kit-Collection',\n",
       "       'Streax-Shampoo-Colour-Natural-Black-25-ml-Pack',\n",
       "       'Streax-Professional-Hold-Funkey-Colour',\n",
       "       'Streax-Soft-Hair-Colour-Natural-Black-170',\n",
       "       'Streax-Perfumed-Body-Peach-100ml',\n",
       "       'Himalaya-4004G-Baby-Powder-400g',\n",
       "       'Himalaya-Moisturizing-Aloe-Vera-200ml',\n",
       "       'Himalaya-Baby-Shampoo-400-ml', 'Himalaya-4003F-Baby-Lotion-400ml',\n",
       "       'Himalaya-Gift-Pack', 'Himalaya-Herbals-Baby-Lotion-400ml',\n",
       "       'Himalaya-Herbals-Anti-Wrinkle-Cream',\n",
       "       'Society-Tea-Regular-250g-Pouch', 'Society-Tea-Regular-Pouch-1kg',\n",
       "       'Society-Tea-Masala-Jar-250g', 'Society-Tea-Minute-Masala-500g',\n",
       "       'Society-Daily-Elachi-Premix-Pouch',\n",
       "       'Society-Tea-Premium-Packet-1000g',\n",
       "       'Society-Tea-Daily-Masala-Premix',\n",
       "       'Society-Tea-Minute-Ginger-Lemongrass',\n",
       "       'Society-Minute-Tea-Masala-500g', 'Tata-Tea-Gold-500g',\n",
       "       'Tata-Tea-Premium-North-1kg', 'Tata-Tea-Gold-1kg',\n",
       "       'Tata-Tea-Gold-Leaf-Pouch', 'Tata-Tea-Premium-1-5kg',\n",
       "       'Tata-Premium-Leaf-South-500g', 'Tata-Agni-Leaf-Tea-1kg',\n",
       "       'Fastrack-Casual-Analog-White-Watch-NK3121SM01',\n",
       "       'Fastrack-Analog-Womens-6150SM04-NK6150SM04',\n",
       "       'Fastrack-Casual-Analog-Blue-Watch-NK3124SL02',\n",
       "       'Reflex-Activity-Tracker-Monitor-SWD90066PP01',\n",
       "       'Fastrack-Economy-2013-Analog-Watch-NK3099SP05',\n",
       "       'Fastrack-Casual-Analog-Grey-Watch-NK3121SL02',\n",
       "       'Fastrack-Casual-Analog-White-Watch-NK3120SL01',\n",
       "       'Fastrack-Analog-Silver-Dial-Watch-NK9332PP06',\n",
       "       'Reflex-Activity-Tracker-Monitor-SWD90066PP02',\n",
       "       'MYSORE-SANDAL-Mysore-Sandal-Talcum',\n",
       "       'Mysore-Sandal-Bathing-Soap-125g', 'Mysore-Sandal-Gold-Soap-Pack',\n",
       "       'Mysore-Whitening-Rejuvenating-Face-Pack',\n",
       "       'Mysore-Sandal-Jasmine-Rose-Soap',\n",
       "       'Mysore-Sandal-Millennium-Soap-150g',\n",
       "       'Mysore-Sandal-Agarbathies-Pack-Box',\n",
       "       'Mysore-Sandal-Soaps-Pack-Bars'], dtype=object)"
      ]
     },
     "execution_count": 3,
     "metadata": {},
     "output_type": "execute_result"
    }
   ],
   "source": [
    "amz_data.name.unique()"
   ]
  },
  {
   "cell_type": "code",
   "execution_count": 4,
   "metadata": {},
   "outputs": [
    {
     "data": {
      "text/html": [
       "<div>\n",
       "<style scoped>\n",
       "    .dataframe tbody tr th:only-of-type {\n",
       "        vertical-align: middle;\n",
       "    }\n",
       "\n",
       "    .dataframe tbody tr th {\n",
       "        vertical-align: top;\n",
       "    }\n",
       "\n",
       "    .dataframe thead th {\n",
       "        text-align: right;\n",
       "    }\n",
       "</style>\n",
       "<table border=\"1\" class=\"dataframe\">\n",
       "  <thead>\n",
       "    <tr style=\"text-align: right;\">\n",
       "      <th></th>\n",
       "      <th>asin</th>\n",
       "      <th>name</th>\n",
       "      <th>date</th>\n",
       "      <th>rating</th>\n",
       "      <th>review</th>\n",
       "      <th>company</th>\n",
       "    </tr>\n",
       "  </thead>\n",
       "  <tbody>\n",
       "    <tr>\n",
       "      <th>0</th>\n",
       "      <td>B07W7CTLD1</td>\n",
       "      <td>Mamaearth-Onion-Growth-Control-Redensyl</td>\n",
       "      <td>2019-09-06</td>\n",
       "      <td>1</td>\n",
       "      <td>I bought this hair oil after viewing so many g...</td>\n",
       "      <td>Mamaearth</td>\n",
       "    </tr>\n",
       "    <tr>\n",
       "      <th>1</th>\n",
       "      <td>B07W7CTLD1</td>\n",
       "      <td>Mamaearth-Onion-Growth-Control-Redensyl</td>\n",
       "      <td>2019-08-14</td>\n",
       "      <td>5</td>\n",
       "      <td>Used This Mama Earth Newly Launched Onion Oil ...</td>\n",
       "      <td>Mamaearth</td>\n",
       "    </tr>\n",
       "    <tr>\n",
       "      <th>2</th>\n",
       "      <td>B07W7CTLD1</td>\n",
       "      <td>Mamaearth-Onion-Growth-Control-Redensyl</td>\n",
       "      <td>2019-10-19</td>\n",
       "      <td>1</td>\n",
       "      <td>So bad product...My hair falling increase too ...</td>\n",
       "      <td>Mamaearth</td>\n",
       "    </tr>\n",
       "    <tr>\n",
       "      <th>3</th>\n",
       "      <td>B07W7CTLD1</td>\n",
       "      <td>Mamaearth-Onion-Growth-Control-Redensyl</td>\n",
       "      <td>2019-09-16</td>\n",
       "      <td>1</td>\n",
       "      <td>Product just smells similar to navarathna hair...</td>\n",
       "      <td>Mamaearth</td>\n",
       "    </tr>\n",
       "    <tr>\n",
       "      <th>4</th>\n",
       "      <td>B07W7CTLD1</td>\n",
       "      <td>Mamaearth-Onion-Growth-Control-Redensyl</td>\n",
       "      <td>2019-08-18</td>\n",
       "      <td>5</td>\n",
       "      <td>I have been trying different onion oil for my ...</td>\n",
       "      <td>Mamaearth</td>\n",
       "    </tr>\n",
       "  </tbody>\n",
       "</table>\n",
       "</div>"
      ],
      "text/plain": [
       "         asin                                     name        date  rating  \\\n",
       "0  B07W7CTLD1  Mamaearth-Onion-Growth-Control-Redensyl  2019-09-06       1   \n",
       "1  B07W7CTLD1  Mamaearth-Onion-Growth-Control-Redensyl  2019-08-14       5   \n",
       "2  B07W7CTLD1  Mamaearth-Onion-Growth-Control-Redensyl  2019-10-19       1   \n",
       "3  B07W7CTLD1  Mamaearth-Onion-Growth-Control-Redensyl  2019-09-16       1   \n",
       "4  B07W7CTLD1  Mamaearth-Onion-Growth-Control-Redensyl  2019-08-18       5   \n",
       "\n",
       "                                              review    company  \n",
       "0  I bought this hair oil after viewing so many g...  Mamaearth  \n",
       "1  Used This Mama Earth Newly Launched Onion Oil ...  Mamaearth  \n",
       "2  So bad product...My hair falling increase too ...  Mamaearth  \n",
       "3  Product just smells similar to navarathna hair...  Mamaearth  \n",
       "4  I have been trying different onion oil for my ...  Mamaearth  "
      ]
     },
     "execution_count": 4,
     "metadata": {},
     "output_type": "execute_result"
    }
   ],
   "source": [
    "def comp(x):\n",
    "    return x.split('-')[0]\n",
    "amz_data['company'] = amz_data.name.apply(comp)\n",
    "amz_data.head()"
   ]
  },
  {
   "cell_type": "code",
   "execution_count": 5,
   "metadata": {},
   "outputs": [
    {
     "data": {
      "text/plain": [
       "(2782, 6)"
      ]
     },
     "execution_count": 5,
     "metadata": {},
     "output_type": "execute_result"
    }
   ],
   "source": [
    "amz_data.shape"
   ]
  },
  {
   "cell_type": "code",
   "execution_count": 6,
   "metadata": {},
   "outputs": [
    {
     "data": {
      "text/plain": [
       "asin       0\n",
       "name       0\n",
       "date       0\n",
       "rating     0\n",
       "review     4\n",
       "company    0\n",
       "dtype: int64"
      ]
     },
     "execution_count": 6,
     "metadata": {},
     "output_type": "execute_result"
    }
   ],
   "source": [
    "amz_data.isnull().sum()"
   ]
  },
  {
   "cell_type": "code",
   "execution_count": 7,
   "metadata": {},
   "outputs": [
    {
     "data": {
      "text/plain": [
       "(2778, 6)"
      ]
     },
     "execution_count": 7,
     "metadata": {},
     "output_type": "execute_result"
    }
   ],
   "source": [
    "amz_data=amz_data.dropna(how='any')\n",
    "amz_data.shape"
   ]
  },
  {
   "cell_type": "code",
   "execution_count": 8,
   "metadata": {},
   "outputs": [
    {
     "data": {
      "image/png": "[encoded data removed]",
      "text/plain": [
       "<Figure size 720x720 with 1 Axes>"
      ]
     },
     "metadata": {
      "needs_background": "light"
     },
     "output_type": "display_data"
    }
   ],
   "source": [
    "import matplotlib.pyplot as plt\n",
    "bloblist_desc = list()\n",
    "\n",
    "df_amz_review = amz_data['review'].astype(str)\n",
    "for row in df_amz_review:\n",
    "    blob = TextBlob(row)\n",
    "    bloblist_desc.append((row,blob.sentiment.polarity, blob.sentiment.subjectivity))\n",
    "    df_amz_polarity_desc = pd.DataFrame(bloblist_desc, columns = ['sentence','sentiment','polarity'])\n",
    " \n",
    "def f(df_amz_polarity_desc):\n",
    "    if df_amz_polarity_desc['sentiment'] > 0:\n",
    "        val = \"Positive\"\n",
    "    elif df_amz_polarity_desc['sentiment'] == 0:\n",
    "        val = \"Neutral\"\n",
    "    else:\n",
    "        val = \"Negative\"\n",
    "    return val\n",
    "\n",
    "df_amz_polarity_desc['Sentiment_Type'] = df_amz_polarity_desc.apply(f, axis=1)\n",
    "\n",
    "plt.figure(figsize = (10,10))\n",
    "sns.set_style(\"whitegrid\")\n",
    "ax = sns.countplot(x=\"Sentiment_Type\", data=df_amz_polarity_desc)"
   ]
  },
  {
   "cell_type": "code",
   "execution_count": 9,
   "metadata": {},
   "outputs": [
    {
     "data": {
      "text/plain": [
       "array(['Mamaearth', 'Godrej', 'Titan', 'Maaza', 'Paper', 'Indiana',\n",
       "       'Coca', 'Natural', 'Maggi', 'Glucon', 'Amul', 'Patanjali',\n",
       "       'PATANJALI', 'Dettol', 'Savlon', 'Cinthol', 'Britannia',\n",
       "       'NutriChoice', 'Streax', 'Himalaya', 'Society', 'Tata', 'Fastrack',\n",
       "       'Reflex', 'MYSORE', 'Mysore'], dtype=object)"
      ]
     },
     "execution_count": 9,
     "metadata": {},
     "output_type": "execute_result"
    }
   ],
   "source": [
    "amz_data.company.unique()"
   ]
  },
  {
   "cell_type": "code",
   "execution_count": 10,
   "metadata": {},
   "outputs": [
    {
     "data": {
      "text/plain": [
       "array(['Mamaearth', 'Godrej', 'Titan', 'Maaza', 'Paper', 'Indiana',\n",
       "       'Coca', 'Natural', 'Maggi', 'Glucon', 'Amul', 'Patanjali',\n",
       "       'Dettol', 'Savlon', 'Cinthol', 'Britannia', 'NutriChoice',\n",
       "       'Streax', 'Himalaya', 'Society', 'Tata', 'Fastrack', 'Reflex',\n",
       "       'Mysore'], dtype=object)"
      ]
     },
     "execution_count": 10,
     "metadata": {},
     "output_type": "execute_result"
    }
   ],
   "source": [
    "amz_data['company'] = amz_data['company'].str.replace('PATANJALI', 'Patanjali')\n",
    "amz_data['company'] = amz_data['company'].str.replace('MYSORE', 'Mysore')\n",
    "amz_data.company.unique()"
   ]
  },
  {
   "cell_type": "code",
   "execution_count": 11,
   "metadata": {},
   "outputs": [],
   "source": [
    "amz_mamaearth = amz_data[amz_data.company == 'Mamaearth']\n",
    "amz_godrej = amz_data[amz_data.company == 'Godrej']\n",
    "amz_titan = amz_data[amz_data.company == 'Titan']\n",
    "amz_maaza = amz_data[amz_data.company == 'Maaza']\n",
    "amz_paper_boat = amz_data[amz_data.company == 'Paper']\n",
    "amz_indiana = amz_data[amz_data.company == 'Indiana']\n",
    "amz_coca_cola = amz_data[amz_data.company == 'Coca']\n",
    "amz_natural = amz_data[amz_data.company == 'Natural']\n",
    "amz_maggi = amz_data[amz_data.company == 'Maggi']\n",
    "amz_glucon_d = amz_data[amz_data.company == 'Glucon']\n",
    "amz_amul = amz_data[amz_data.company == 'Amul']\n",
    "amz_patanjali = amz_data[amz_data.company == 'Patanjali']\n",
    "amz_dettol = amz_data[amz_data.company == 'Dettol']\n",
    "amz_savlon = amz_data[amz_data.company == 'Savlon']\n",
    "amz_cinthol = amz_data[amz_data.company == 'Cinthol']\n",
    "amz_britannia = amz_data[amz_data.company == 'Britannia']\n",
    "amz_nutrichoice = amz_data[amz_data.company == 'NutriChoice']\n",
    "amz_streax = amz_data[amz_data.company == 'Streax']\n",
    "amz_himalaya = amz_data[amz_data.company == 'Himalaya']\n",
    "amz_society = amz_data[amz_data.company == 'Society']\n",
    "amz_tata = amz_data[amz_data.company == 'Tata']\n",
    "amz_fastrack = amz_data[amz_data.company == 'Fastrack']\n",
    "amz_reflex = amz_data[amz_data.company == 'Reflex']\n",
    "amz_mysore = amz_data[amz_data.company == 'Mysore']"
   ]
  },
  {
   "cell_type": "code",
   "execution_count": null,
   "metadata": {},
   "outputs": [],
   "source": []
  }
 ],
 "metadata": {
  "kernelspec": {
   "display_name": "Python 3",
   "language": "python",
   "name": "python3"
  },
  "language_info": {
   "codemirror_mode": {
    "name": "ipython",
    "version": 3
   },
   "file_extension": ".py",
   "mimetype": "text/x-python",
   "name": "python",
   "nbconvert_exporter": "python",
   "pygments_lexer": "ipython3",
   "version": "3.8.3"
  }
 },
 "nbformat": 4,
 "nbformat_minor": 4
}
